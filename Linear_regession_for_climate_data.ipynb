{
 "cells": [
  {
   "cell_type": "code",
   "execution_count": 1,
   "metadata": {},
   "outputs": [],
   "source": [
    "import pandas as pd\n",
    "import matplotlib\n",
    "import matplotlib.pyplot as plt\n",
    "import numpy as np\n",
    "\n",
    "clim_data = pd.read_pickle(\"./merged_data1.pkl\")"
   ]
  },
  {
   "cell_type": "code",
   "execution_count": 2,
   "metadata": {},
   "outputs": [],
   "source": [
    "predictors = ['Greenland',  'Antarctica']\n",
    "df2 = clim_data[['Mean Sea Level'] + predictors]"
   ]
  },
  {
   "cell_type": "code",
   "execution_count": 4,
   "metadata": {},
   "outputs": [],
   "source": [
    "# import the relevant module\n",
    "#import statsmodels.api as sm\n",
    "\n",
    "# separate our my predictor variables (X) from my outcome variable y\n",
    "X = df2[predictors]\n",
    "y = df2['Mean Sea Level']\n",
    "\n",
    "# Add a constant to the predictor variable set to represent the Bo intercept\n",
    "#X = sm.add_constant(X)\n",
    "#X.iloc[:5, :5]"
   ]
  },
  {
   "cell_type": "code",
   "execution_count": 5,
   "metadata": {},
   "outputs": [],
   "source": [
    "from sklearn.model_selection import train_test_split"
   ]
  },
  {
   "cell_type": "code",
   "execution_count": 6,
   "metadata": {},
   "outputs": [],
   "source": [
    "# first remove the const column because unlike statsmodels, SciKit-Learn will add that in for us\n",
    "#X = X.drop('const', axis=1)\n",
    "\n",
    "X_train, X_test, y_train, y_test = train_test_split(X, y, test_size=0.2, random_state=12)"
   ]
  },
  {
   "cell_type": "code",
   "execution_count": 7,
   "metadata": {},
   "outputs": [],
   "source": [
    "from sklearn.linear_model import LinearRegression"
   ]
  },
  {
   "cell_type": "code",
   "execution_count": 8,
   "metadata": {},
   "outputs": [
    {
     "name": "stdout",
     "output_type": "stream",
     "text": [
      "The Explained Variance: 0.94\n",
      "The Mean Absolute Error: 4.11 millimeters\n",
      "The Median Absolute Error: 3.01 millimeters\n"
     ]
    }
   ],
   "source": [
    "\n",
    "# instantiate the regressor class\n",
    "regressor = LinearRegression()\n",
    "\n",
    "# fit the build the model by fitting the regressor to the training data\n",
    "regressor.fit(X_train, y_train)\n",
    "\n",
    "# make a prediction set using the test set\n",
    "prediction = regressor.predict(X_test)\n",
    "\n",
    "# Evaluate the prediction accuracy of the model\n",
    "from sklearn.metrics import mean_absolute_error, median_absolute_error\n",
    "print(\"The Explained Variance: %.2f\" % regressor.score(X_test, y_test))\n",
    "print(\"The Mean Absolute Error: %.2f millimeters\" % mean_absolute_error(y_test, prediction))\n",
    "print(\"The Median Absolute Error: %.2f millimeters\" % median_absolute_error(y_test, prediction))"
   ]
  },
  {
   "cell_type": "code",
   "execution_count": 9,
   "metadata": {},
   "outputs": [
    {
     "data": {
      "text/plain": [
       "array([ 5.64540123, -7.75875689, 46.67933004, 12.58432544, 38.26133119,\n",
       "       14.12500556, -2.30251202,  9.50669936, -3.60360191,  5.68579552,\n",
       "       32.4047471 , 47.26397232, 37.79859258, -6.40549789, 20.47322683,\n",
       "       43.96955325,  0.40702961, 51.29768595,  4.4422937 , -0.40817088,\n",
       "       -0.76177872, 56.33045835, 19.71224299, 21.39907764,  2.03903189,\n",
       "       41.90947373, 33.91111318, 25.08314906, 55.96863282, -0.64278996,\n",
       "       -8.85443687, -5.70429439, 13.44445578, 30.04242085, 14.65405939,\n",
       "       -3.58461183, 30.71015384, -5.16165448, 12.54226266])"
      ]
     },
     "execution_count": 9,
     "metadata": {},
     "output_type": "execute_result"
    }
   ],
   "source": [
    "prediction"
   ]
  },
  {
   "cell_type": "code",
   "execution_count": null,
   "metadata": {},
   "outputs": [],
   "source": []
  },
  {
   "cell_type": "code",
   "execution_count": null,
   "metadata": {},
   "outputs": [],
   "source": []
  }
 ],
 "metadata": {
  "kernelspec": {
   "display_name": "Python 3",
   "language": "python",
   "name": "python3"
  },
  "language_info": {
   "codemirror_mode": {
    "name": "ipython",
    "version": 3
   },
   "file_extension": ".py",
   "mimetype": "text/x-python",
   "name": "python",
   "nbconvert_exporter": "python",
   "pygments_lexer": "ipython3",
   "version": "3.8.2"
  }
 },
 "nbformat": 4,
 "nbformat_minor": 4
}
